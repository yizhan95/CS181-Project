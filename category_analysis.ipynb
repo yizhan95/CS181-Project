{
 "cells": [
  {
   "cell_type": "code",
   "execution_count": 2,
   "metadata": {
    "collapsed": true
   },
   "outputs": [],
   "source": [
    "import sys\n",
    "import itertools\n",
    "import logging\n",
    "from math import sqrt\n",
    "from operator import add\n",
    "from os.path import join, isfile, dirname\n",
    "\n",
    "from pyspark import SparkConf, SparkContext\n",
    "from pyspark.sql import SparkSession\n",
    "\n",
    "import json\n",
    "\n",
    "from pyspark.mllib.fpm import FPGrowth"
   ]
  },
  {
   "cell_type": "code",
   "execution_count": 3,
   "metadata": {},
   "outputs": [
    {
     "name": "stdout",
     "output_type": "stream",
     "text": [
      "Running Spark Version 2.2.0\n"
     ]
    }
   ],
   "source": [
    "spark = SparkSession \\\n",
    "    .builder \\\n",
    "    .appName(\"Python Spark SQL basic example\") \\\n",
    "    .config(\"spark.some.config.option\", \"some-value\") \\\n",
    "    .getOrCreate()\n",
    "print(\"Running Spark Version %s\" % (spark.version))\n",
    "\n",
    "#### load business data ###\n",
    "# path_business =\"yizhan/Desktop/cs181/dataset/buiness.json\"\n",
    "path_business = \"dataset/business.json\"\n",
    "df_business_raw = spark.read.json(path_business)\n",
    "catDF = df_business_raw.select(df_business_raw[\"categories\"])\n",
    "catDF_iter = catDF.rdd.collect()    "
   ]
  },
  {
   "cell_type": "code",
   "execution_count": 4,
   "metadata": {},
   "outputs": [
    {
     "data": {
      "text/plain": [
       "156639"
      ]
     },
     "execution_count": 4,
     "metadata": {},
     "output_type": "execute_result"
    }
   ],
   "source": [
    "catDF.count()"
   ]
  },
  {
   "cell_type": "code",
   "execution_count": 5,
   "metadata": {
    "collapsed": true
   },
   "outputs": [],
   "source": [
    "data = catDF.rdd.filter(lambda item : 'Restaurants' in item.categories ).map(lambda item: set([x for x in item.categories if x !='Restaurants' and x != 'Food'])).filter(lambda item: len(item) > 1)"
   ]
  },
  {
   "cell_type": "code",
   "execution_count": 6,
   "metadata": {},
   "outputs": [
    {
     "data": {
      "text/plain": [
       "34557"
      ]
     },
     "execution_count": 6,
     "metadata": {},
     "output_type": "execute_result"
    }
   ],
   "source": [
    "data.count()"
   ]
  },
  {
   "cell_type": "code",
   "execution_count": 7,
   "metadata": {},
   "outputs": [
    {
     "name": "stdout",
     "output_type": "stream",
     "text": [
      "{'Convenience Stores', 'Soul Food'}\n",
      "{'Sports Bars', 'American (Traditional)', 'Nightlife', 'Burgers', 'Bars'}\n",
      "{'Italian', 'Diners', 'Breakfast & Brunch', 'Sandwiches', 'Mexican'}\n",
      "{'American (Traditional)', 'Seafood'}\n",
      "{'Comfort Food', 'Canadian (New)', 'American (Traditional)', 'Nightlife', 'Bars'}\n",
      "{'Taiwanese', 'Coffee & Tea'}\n",
      "{'Chicken Wings', 'American (Traditional)', 'Nightlife', 'Burgers', 'Bars'}\n",
      "{'Irish', 'Nightlife', 'Pubs', 'Bars'}\n",
      "{'Sandwiches', 'Chicken Wings', 'Pizza'}\n",
      "{'Nightlife', 'Bars'}\n",
      "{'Asian Fusion', 'Sushi Bars'}\n"
     ]
    }
   ],
   "source": [
    "count = 0\n",
    "cat_iter = data.collect()\n",
    "for each in cat_iter:  \n",
    "    print(each)\n",
    "    count += 1\n",
    "    if count > 10:\n",
    "        break "
   ]
  },
  {
   "cell_type": "code",
   "execution_count": 8,
   "metadata": {
    "collapsed": true
   },
   "outputs": [],
   "source": [
    "# data.saveAsTextFile('category_data.csv')"
   ]
  },
  {
   "cell_type": "code",
   "execution_count": 9,
   "metadata": {
    "collapsed": true
   },
   "outputs": [],
   "source": [
    "model = FPGrowth.train(data.map(lambda item : list(item)), minSupport=0.001, numPartitions=10)\n",
    "result = model.freqItemsets()\n",
    "result_list = result.collect()"
   ]
  },
  {
   "cell_type": "markdown",
   "metadata": {},
   "source": [
    "# Prelim Results from FP Growth Model"
   ]
  },
  {
   "cell_type": "code",
   "execution_count": 10,
   "metadata": {},
   "outputs": [
    {
     "name": "stdout",
     "output_type": "stream",
     "text": [
      "FreqItemset(items=['Party & Event Planning'], freq=120)\n",
      "FreqItemset(items=['Party & Event Planning', 'Caterers'], freq=40)\n",
      "FreqItemset(items=['Party & Event Planning', 'Caterers', 'Event Planning & Services'], freq=40)\n",
      "FreqItemset(items=['Party & Event Planning', 'Venues & Event Spaces'], freq=36)\n",
      "FreqItemset(items=['Party & Event Planning', 'Venues & Event Spaces', 'Event Planning & Services'], freq=36)\n",
      "FreqItemset(items=['Party & Event Planning', 'Event Planning & Services'], freq=120)\n",
      "FreqItemset(items=['Juice Bars & Smoothies'], freq=582)\n",
      "FreqItemset(items=['Juice Bars & Smoothies', 'American (New)'], freq=46)\n",
      "FreqItemset(items=['Juice Bars & Smoothies', 'Coffee & Tea'], freq=145)\n",
      "FreqItemset(items=['Juice Bars & Smoothies', 'Coffee & Tea', 'Sandwiches'], freq=37)\n",
      "FreqItemset(items=['Juice Bars & Smoothies', 'Coffee & Tea', 'Cafes'], freq=58)\n",
      "FreqItemset(items=['Juice Bars & Smoothies', 'Ice Cream & Frozen Yogurt'], freq=48)\n",
      "FreqItemset(items=['Juice Bars & Smoothies', 'Desserts'], freq=48)\n",
      "FreqItemset(items=['Juice Bars & Smoothies', 'Sandwiches'], freq=162)\n",
      "FreqItemset(items=['Juice Bars & Smoothies', 'Gluten-Free'], freq=65)\n",
      "FreqItemset(items=['Juice Bars & Smoothies', 'Salad'], freq=112)\n"
     ]
    }
   ],
   "source": [
    "count = 0 \n",
    "for fi in result_list:\n",
    "    print(fi)\n",
    "    count += 1\n",
    "    if count > 15:\n",
    "        break"
   ]
  },
  {
   "cell_type": "code",
   "execution_count": 11,
   "metadata": {
    "collapsed": true
   },
   "outputs": [],
   "source": [
    "cat_set_dict = {}\n",
    "for item_set in result_list:\n",
    "    main_label = item_set.items[0]\n",
    "    current_freq = item_set.freq\n",
    "    root_freq = current_freq\n",
    "    if main_label in cat_set_dict:\n",
    "        value = cat_set_dict[main_label]\n",
    "        root_freq = value[0]\n",
    "        label_set = value[1]\n",
    "    else:\n",
    "        label_set = [main_label]\n",
    "        cat_set_dict[main_label] = [current_freq, label_set]\n",
    "    \n",
    "    if len(item_set) == 1:\n",
    "        continue\n",
    "    else:\n",
    "        secondary_label = item_set.items[len(item_set.items)-1] # get the last label \n",
    "        if secondary_label not in label_set and current_freq > 0.5*root_freq:\n",
    "            label_set.append(secondary_label)\n",
    "            cat_set_dict[main_label] = [root_freq, label_set]\n",
    "         \n",
    "    "
   ]
  },
  {
   "cell_type": "markdown",
   "metadata": {},
   "source": [
    "# Final Results with Frequent Appearing Category Combination"
   ]
  },
  {
   "cell_type": "code",
   "execution_count": 12,
   "metadata": {},
   "outputs": [
    {
     "name": "stdout",
     "output_type": "stream",
     "text": [
      "Party & Event Planning ['Party & Event Planning', 'Event Planning & Services']\n",
      "Juice Bars & Smoothies ['Juice Bars & Smoothies']\n",
      "Poke ['Poke', 'Hawaiian']\n",
      "Fish & Chips ['Fish & Chips']\n",
      "Sports Bars ['Sports Bars', 'American (Traditional)', 'Bars', 'Nightlife']\n",
      "Kebab ['Kebab']\n",
      "Dance Clubs ['Dance Clubs', 'Bars', 'Nightlife']\n",
      "Greek ['Greek', 'Mediterranean']\n",
      "Waffles ['Waffles', 'Breakfast & Brunch']\n",
      "Hotels & Travel ['Hotels & Travel', 'Event Planning & Services']\n",
      "Cafes ['Cafes']\n",
      "Bowling ['Bowling', 'Active Life']\n",
      "Health Markets ['Health Markets', 'Specialty Food']\n",
      "Latin American ['Latin American']\n",
      "Pool Halls ['Pool Halls', 'Bars', 'Nightlife']\n",
      "Beer Bar ['Beer Bar', 'Bars', 'Nightlife']\n",
      "Barbeque ['Barbeque']\n",
      "Mongolian ['Mongolian']\n",
      "Nightlife ['Nightlife']\n",
      "Karaoke ['Karaoke', 'Bars', 'Nightlife']\n",
      "Cantonese ['Cantonese', 'Chinese']\n",
      "Arts & Entertainment ['Arts & Entertainment', 'Bars', 'Nightlife']\n",
      "Music Venues ['Music Venues', 'Arts & Entertainment', 'Bars', 'Nightlife']\n",
      "Coffee & Tea ['Coffee & Tea']\n",
      "Irish Pub ['Irish Pub', 'Pubs', 'Bars', 'Nightlife', 'Irish']\n",
      "Fondue ['Fondue']\n",
      "Street Vendors ['Street Vendors']\n",
      "Kosher ['Kosher']\n",
      "Steakhouses ['Steakhouses']\n",
      "Halal ['Halal']\n",
      "Bars ['Bars', 'Nightlife']\n",
      "Beauty & Spas ['Beauty & Spas']\n",
      "Chocolatiers & Shops ['Chocolatiers & Shops', 'Specialty Food']\n",
      "Breweries ['Breweries', 'Bars', 'Nightlife']\n",
      "Delis ['Delis', 'Sandwiches']\n",
      "Filipino ['Filipino']\n",
      "Comfort Food ['Comfort Food']\n",
      "Cuban ['Cuban']\n",
      "Swabian ['Swabian', 'German']\n",
      "Performing Arts ['Performing Arts', 'Arts & Entertainment']\n",
      "Hookah Bars ['Hookah Bars', 'Bars', 'Nightlife']\n",
      "Diners ['Diners', 'Breakfast & Brunch']\n",
      "German ['German']\n",
      "Sandwiches ['Sandwiches']\n",
      "Live/Raw Food ['Live/Raw Food']\n",
      "Gelato ['Gelato']\n",
      "Hawaiian ['Hawaiian']\n",
      "Asian Fusion ['Asian Fusion']\n",
      "Food Court ['Food Court']\n",
      "Vegan ['Vegan', 'Vegetarian']\n",
      "Scottish ['Scottish']\n",
      "Caribbean ['Caribbean']\n",
      "Fruits & Veggies ['Fruits & Veggies', 'Specialty Food']\n",
      "Mexican ['Mexican']\n",
      "Portuguese ['Portuguese']\n",
      "French ['French']\n",
      "Malaysian ['Malaysian']\n",
      "Himalayan/Nepalese ['Himalayan/Nepalese']\n",
      "Dive Bars ['Dive Bars', 'Bars', 'Nightlife']\n",
      "Mediterranean ['Mediterranean']\n",
      "Bubble Tea ['Bubble Tea']\n",
      "Ethnic Food ['Ethnic Food', 'Specialty Food']\n",
      "Brazilian ['Brazilian', 'Steakhouses']\n",
      "Home & Garden ['Home & Garden', 'Shopping']\n",
      "Tapas Bars ['Tapas Bars']\n",
      "Chinese ['Chinese']\n",
      "Tea Rooms ['Tea Rooms', 'Coffee & Tea']\n",
      "Lounges ['Lounges', 'Bars', 'Nightlife']\n",
      "Delicatessen ['Delicatessen']\n",
      "Grocery ['Grocery']\n",
      "Organic Stores ['Organic Stores']\n",
      "Fast Food ['Fast Food']\n",
      "Spanish ['Spanish']\n",
      "Vegetarian ['Vegetarian']\n",
      "Afghan ['Afghan']\n",
      "Shaved Ice ['Shaved Ice']\n",
      "Ramen ['Ramen', 'Japanese']\n",
      "Seafood Markets ['Seafood Markets', 'Seafood', 'Specialty Food']\n",
      "Cocktail Bars ['Cocktail Bars', 'Bars', 'Nightlife']\n",
      "British ['British', 'Bars', 'Nightlife']\n",
      "Chicken Wings ['Chicken Wings']\n",
      "Convenience Stores ['Convenience Stores']\n",
      "Bagels ['Bagels', 'Sandwiches', 'Breakfast & Brunch']\n",
      "Arabian ['Arabian', 'Middle Eastern']\n",
      "Lebanese ['Lebanese', 'Middle Eastern']\n",
      "American (Traditional) ['American (Traditional)']\n",
      "Indian ['Indian']\n",
      "Home Services ['Home Services']\n",
      "International ['International']\n",
      "Hot Dogs ['Hot Dogs', 'Burgers']\n",
      "Salvadoran ['Salvadoran', 'Latin American']\n",
      "Soul Food ['Soul Food']\n",
      "Specialty Food ['Specialty Food']\n",
      "Polish ['Polish']\n",
      "Cheesesteaks ['Cheesesteaks', 'Sandwiches']\n",
      "Wine Bars ['Wine Bars', 'Bars', 'Nightlife']\n",
      "Beer Garden ['Beer Garden', 'German']\n",
      "Tapas/Small Plates ['Tapas/Small Plates']\n",
      "Burgers ['Burgers']\n",
      "Colombian ['Colombian', 'Latin American']\n",
      "Tacos ['Tacos', 'Mexican']\n",
      "Food Delivery Services ['Food Delivery Services']\n",
      "Jazz & Blues ['Jazz & Blues', 'Arts & Entertainment', 'Nightlife']\n",
      "Modern European ['Modern European']\n",
      "Pubs ['Pubs', 'Bars', 'Nightlife']\n",
      "Beer Gardens ['Beer Gardens', 'Nightlife']\n",
      "Brasseries ['Brasseries']\n",
      "Soup ['Soup', 'Sandwiches', 'Salad']\n",
      "Wraps ['Wraps']\n",
      "Noodles ['Noodles']\n",
      "Event Planning & Services ['Event Planning & Services']\n",
      "Local Services ['Local Services']\n",
      "Cupcakes ['Cupcakes']\n",
      "Active Life ['Active Life']\n",
      "Caterers ['Caterers', 'Event Planning & Services']\n",
      "African ['African']\n",
      "Vietnamese ['Vietnamese']\n",
      "Farmers Market ['Farmers Market']\n",
      "Meat Shops ['Meat Shops', 'Specialty Food']\n",
      "Buffets ['Buffets']\n",
      "Patisserie/Cake Shop ['Patisserie/Cake Shop', 'Coffee & Tea', 'Cafes', 'Bakeries']\n",
      "Hotels ['Hotels', 'Hotels & Travel', 'Event Planning & Services']\n",
      "Salad ['Salad']\n",
      "Pasta Shops ['Pasta Shops', 'Specialty Food']\n",
      "Irish ['Irish', 'Pubs', 'Bars', 'Nightlife']\n",
      "Internet Cafes ['Internet Cafes', 'Coffee & Tea', 'Cafes']\n",
      "Middle Eastern ['Middle Eastern']\n",
      "Southern ['Southern']\n",
      "Breakfast & Brunch ['Breakfast & Brunch']\n",
      "Arcades ['Arcades', 'Arts & Entertainment']\n",
      "Imported Food ['Imported Food', 'Ethnic Food', 'Specialty Food']\n",
      "Flowers & Gifts ['Flowers & Gifts', 'Shopping']\n",
      "Seafood ['Seafood']\n",
      "Persian/Iranian ['Persian/Iranian']\n",
      "Ice Cream & Frozen Yogurt ['Ice Cream & Frozen Yogurt']\n",
      "Pan Asian ['Pan Asian', 'Asian Fusion']\n",
      "Venues & Event Spaces ['Venues & Event Spaces', 'Event Planning & Services']\n",
      "Automotive ['Automotive']\n",
      "Local Flavor ['Local Flavor']\n",
      "Pizza ['Pizza']\n",
      "Beer ['Beer', 'Bars', 'Nightlife']\n",
      "Golf ['Golf', 'Active Life']\n",
      "Chicken Shop ['Chicken Shop']\n",
      "Smokehouse ['Smokehouse']\n",
      "Bakeries ['Bakeries']\n",
      "Casinos ['Casinos', 'Arts & Entertainment']\n",
      "Gastropubs ['Gastropubs', 'Bars', 'Nightlife']\n",
      "Szechuan ['Szechuan', 'Chinese']\n",
      "Moroccan ['Moroccan']\n",
      "Shopping ['Shopping']\n",
      "American (New) ['American (New)']\n",
      "Donuts ['Donuts', 'Coffee & Tea']\n",
      "Wine & Spirits ['Wine & Spirits', 'Beer', 'Bars', 'Nightlife']\n",
      "Shopping Centers ['Shopping Centers', 'Shopping']\n",
      "Falafel ['Falafel', 'Mediterranean', 'Middle Eastern']\n",
      "Korean ['Korean']\n",
      "Cheese Shops ['Cheese Shops', 'Specialty Food']\n",
      "Cajun/Creole ['Cajun/Creole']\n",
      "Canadian (New) ['Canadian (New)']\n",
      "Butcher ['Butcher']\n",
      "Russian ['Russian']\n",
      "Food Stands ['Food Stands']\n",
      "Turkish ['Turkish']\n",
      "Japanese ['Japanese']\n",
      "Tex-Mex ['Tex-Mex', 'Fast Food', 'Mexican']\n",
      "Poutineries ['Poutineries']\n",
      "Food Trucks ['Food Trucks']\n",
      "Peruvian ['Peruvian', 'Latin American']\n",
      "Creperies ['Creperies']\n",
      "Desserts ['Desserts']\n",
      "Belgian ['Belgian']\n",
      "Bistros ['Bistros']\n",
      "Do-It-Yourself Food ['Do-It-Yourself Food']\n",
      "Gluten-Free ['Gluten-Free']\n",
      "Dim Sum ['Dim Sum', 'Chinese']\n",
      "Sushi Bars ['Sushi Bars', 'Japanese']\n",
      "Hot Pot ['Hot Pot', 'Chinese']\n",
      "Ethiopian ['Ethiopian']\n",
      "Pakistani ['Pakistani', 'Indian']\n",
      "Taiwanese ['Taiwanese']\n",
      "Italian ['Italian', 'Pizza']\n",
      "Thai ['Thai']\n",
      "Health & Medical ['Health & Medical']\n"
     ]
    }
   ],
   "source": [
    "for k,v in cat_set_dict.items():\n",
    "    print(k,v[1])"
   ]
  },
  {
   "cell_type": "code",
   "execution_count": 14,
   "metadata": {},
   "outputs": [
    {
     "data": {
      "text/plain": [
       "183"
      ]
     },
     "execution_count": 14,
     "metadata": {},
     "output_type": "execute_result"
    }
   ],
   "source": [
    "len(cat_set_dict)"
   ]
  },
  {
   "cell_type": "code",
   "execution_count": null,
   "metadata": {
    "collapsed": true
   },
   "outputs": [],
   "source": []
  }
 ],
 "metadata": {
  "kernelspec": {
   "display_name": "Python 3",
   "language": "python",
   "name": "python3"
  },
  "language_info": {
   "codemirror_mode": {
    "name": "ipython",
    "version": 3
   },
   "file_extension": ".py",
   "mimetype": "text/x-python",
   "name": "python",
   "nbconvert_exporter": "python",
   "pygments_lexer": "ipython3",
   "version": "3.6.1"
  }
 },
 "nbformat": 4,
 "nbformat_minor": 2
}
