{
 "cells": [
  {
   "cell_type": "code",
   "execution_count": 3,
   "metadata": {
    "collapsed": true
   },
   "outputs": [],
   "source": [
    "import sys\n",
    "import itertools\n",
    "import logging\n",
    "from math import sqrt\n",
    "from operator import add\n",
    "from os.path import join, isfile, dirname\n",
    "\n",
    "from pyspark import SparkConf, SparkContext\n",
    "from pyspark.sql import SparkSession\n",
    "\n",
    "import json\n",
    "\n",
    "from pyspark.mllib.fpm import FPGrowth"
   ]
  },
  {
   "cell_type": "code",
   "execution_count": 5,
   "metadata": {},
   "outputs": [
    {
     "name": "stdout",
     "output_type": "stream",
     "text": [
      "Running Spark Version 2.2.0\n"
     ]
    }
   ],
   "source": [
    "spark = SparkSession \\\n",
    "    .builder \\\n",
    "    .appName(\"Python Spark SQL basic example\") \\\n",
    "    .config(\"spark.some.config.option\", \"some-value\") \\\n",
    "    .getOrCreate()\n",
    "print(\"Running Spark Version %s\" % (spark.version))\n",
    "\n",
    "#### load business data ###\n",
    "# path_business =\"yizhan/Desktop/cs181/dataset/buiness.json\"\n",
    "path_business = \"dataset/business.json\"\n",
    "df_business_raw = spark.read.json(path_business)\n",
    "catDF = df_business_raw.select(df_business_raw[\"categories\"])\n",
    "catDF_iter = catDF.rdd.collect()                                                         "
   ]
  },
  {
   "cell_type": "code",
   "execution_count": 51,
   "metadata": {},
   "outputs": [
    {
     "name": "stdout",
     "output_type": "stream",
     "text": [
      "Shopping\n",
      "Shopping Centers\n"
     ]
    }
   ],
   "source": [
    "for item in catDF.rdd.first().categories:\n",
    "    print (item)"
   ]
  },
  {
   "cell_type": "code",
   "execution_count": 90,
   "metadata": {},
   "outputs": [],
   "source": [
    "def toCSVLine(item):\n",
    "    labels = item.categories\n",
    "    print(labels) \n",
    "    isResturant = False\n",
    "    for label in labels:\n",
    "        if label == 'Restaurants' or label == 'Food' :\n",
    "            isResturant = True                              \n",
    "    if isResturant == True: \n",
    "        return [cat + ',' for cat in line if cat != 'Restaurants' and cat != 'Food']\n",
    "    else:\n",
    "        return \"\"\n",
    "    "
   ]
  },
  {
   "cell_type": "code",
   "execution_count": 127,
   "metadata": {},
   "outputs": [],
   "source": [
    "data = catDF.rdd.filter(lambda item : 'Restaurants' in item.categories or 'Food' in item.categories).map(lambda item: set([x for x in item.categories if x !='Restaurants' and x != 'Food'])).filter(lambda item: len(item) != 0)"
   ]
  },
  {
   "cell_type": "code",
   "execution_count": 128,
   "metadata": {},
   "outputs": [
    {
     "name": "stdout",
     "output_type": "stream",
     "text": [
      "{'Convenience Stores', 'Soul Food'}\n",
      "{'Coffee & Tea'}\n",
      "{'Sandwiches'}\n",
      "{'Florists', 'Grocery', 'Bakeries', 'Shopping', 'Flowers & Gifts'}\n",
      "{'Sports Bars', 'Bars', 'Nightlife', 'Burgers', 'American (Traditional)'}\n",
      "{'Chinese'}\n",
      "{'Coffee & Tea', 'Bakeries'}\n",
      "{'Breakfast & Brunch', 'Sandwiches', 'Mexican', 'Italian', 'Diners'}\n",
      "{'Chicken Wings'}\n",
      "{'Seafood', 'American (Traditional)'}\n",
      "{'Burgers'}\n",
      "{'Comfort Food', 'Bars', 'Nightlife', 'Canadian (New)', 'American (Traditional)'}\n",
      "{'Coffee & Tea', 'Taiwanese'}\n",
      "{'Bars', 'Nightlife', 'Burgers', 'Chicken Wings', 'American (Traditional)'}\n",
      "{'Pubs', 'Nightlife', 'Irish', 'Bars'}\n",
      "{'Chicken Wings', 'Pizza', 'Sandwiches'}\n",
      "{'Bakeries'}\n",
      "{'Grocery'}\n",
      "{'Chinese'}\n",
      "{'Nightlife', 'Bars'}\n",
      "{'Pubs', 'Nightlife', 'Bars'}\n",
      "{'Asian Fusion', 'Sushi Bars'}\n",
      "{'Breakfast & Brunch', 'Delicatessen', 'French', 'Specialty Food'}\n",
      "{'Bars', 'Nightlife', 'Wine & Spirits', 'Beer', 'Pubs', 'American (Traditional)'}\n",
      "{'Mexican'}\n",
      "{'Mexican', 'Fast Food', 'American (Traditional)'}\n",
      "{'Delis', 'Grocery', 'Coffee & Tea', 'Shopping', 'Flowers & Gifts', 'Gift Shops'}\n",
      "{'Donuts'}\n",
      "{'Bars', 'Nightlife', 'Wine & Spirits', 'Beer', 'Lounges'}\n",
      "{'Mexican'}\n",
      "{'American (New)', 'Fast Food', 'Burgers'}\n",
      "{'Italian'}\n",
      "{'Breakfast & Brunch', 'American (Traditional)'}\n",
      "{'Pizza'}\n",
      "{'Breakfast & Brunch', 'American (New)', 'Fast Food', 'Burgers', 'Diners', 'Ice Cream & Frozen Yogurt'}\n",
      "{'Cupcakes', 'Desserts', 'Bakeries'}\n",
      "{'Specialty Food', 'Desserts', 'Popcorn Shops', 'Candy Stores'}\n",
      "{'Chinese'}\n",
      "{'Chinese', 'Convenience Stores'}\n",
      "{'Chinese'}\n",
      "{'Pizza', 'Italian'}\n",
      "{'Mexican'}\n",
      "{'Chinese', 'Fast Food'}\n",
      "{'Cupcakes', 'Ice Cream & Frozen Yogurt'}\n",
      "{'Specialty Food', 'Seafood', 'Mexican', 'Ethnic Food'}\n",
      "{'Chinese', 'Tea Rooms'}\n",
      "{'Shaved Ice', 'Desserts', 'Ice Cream & Frozen Yogurt', 'Juice Bars & Smoothies'}\n",
      "{'Convenience Stores', 'Photography Stores & Services', 'Drugstores', 'Cosmetics & Beauty Supply', 'Shopping', 'Beauty & Spas'}\n",
      "{'Mexican'}\n",
      "{'Coffee & Tea', 'Bakeries'}\n",
      "{'Sandwiches', 'Waffles', 'Delis'}\n"
     ]
    }
   ],
   "source": [
    "count = 0\n",
    "cat_iter = data.collect()\n",
    "for each in cat_iter:    \n",
    "    print(each)\n",
    "    count += 1\n",
    "    if count > 50:\n",
    "        break"
   ]
  },
  {
   "cell_type": "code",
   "execution_count": 109,
   "metadata": {
    "collapsed": true
   },
   "outputs": [],
   "source": [
    "# L.saveAsTextFile('category_data.csv')"
   ]
  },
  {
   "cell_type": "code",
   "execution_count": 147,
   "metadata": {},
   "outputs": [],
   "source": [
    "model = FPGrowth.train(data.map(lambda item : list(item)), minSupport=0.01, numPartitions=10)\n",
    "result = model.freqItemsets().collect()"
   ]
  },
  {
   "cell_type": "code",
   "execution_count": 148,
   "metadata": {},
   "outputs": [
    {
     "name": "stdout",
     "output_type": "stream",
     "text": [
      "FreqItemset(items=['Ethnic Food'], freq=761)\n",
      "FreqItemset(items=['Ethnic Food', 'Specialty Food'], freq=761)\n",
      "FreqItemset(items=['Japanese'], freq=2186)\n",
      "FreqItemset(items=['Juice Bars & Smoothies'], freq=1203)\n",
      "FreqItemset(items=['Mexican'], freq=3913)\n",
      "FreqItemset(items=['Mexican', 'Fast Food'], freq=783)\n",
      "FreqItemset(items=['Mediterranean'], freq=1482)\n",
      "FreqItemset(items=['Nightlife'], freq=7350)\n",
      "FreqItemset(items=['Diners'], freq=1132)\n",
      "FreqItemset(items=['American (New)'], freq=3802)\n",
      "FreqItemset(items=['American (New)', 'American (Traditional)'], freq=864)\n",
      "FreqItemset(items=['American (New)', 'Bars'], freq=1411)\n",
      "FreqItemset(items=['American (New)', 'Bars', 'Nightlife'], freq=1411)\n",
      "FreqItemset(items=['American (New)', 'Nightlife'], freq=1454)\n",
      "FreqItemset(items=['Caterers'], freq=1479)\n",
      "FreqItemset(items=['Caterers', 'Event Planning & Services'], freq=1479)\n",
      "FreqItemset(items=['Bars'], freq=7014)\n",
      "FreqItemset(items=['Bars', 'Nightlife'], freq=7014)\n",
      "FreqItemset(items=['Ice Cream & Frozen Yogurt'], freq=2159)\n",
      "FreqItemset(items=['Buffets'], freq=743)\n",
      "FreqItemset(items=['Sports Bars'], freq=1458)\n",
      "FreqItemset(items=['Sports Bars', 'American (Traditional)'], freq=826)\n",
      "FreqItemset(items=['Sports Bars', 'American (Traditional)', 'Bars'], freq=826)\n",
      "FreqItemset(items=['Sports Bars', 'American (Traditional)', 'Bars', 'Nightlife'], freq=826)\n",
      "FreqItemset(items=['Sports Bars', 'American (Traditional)', 'Nightlife'], freq=826)\n",
      "FreqItemset(items=['Sports Bars', 'Bars'], freq=1458)\n",
      "FreqItemset(items=['Sports Bars', 'Bars', 'Nightlife'], freq=1458)\n",
      "FreqItemset(items=['Sports Bars', 'Nightlife'], freq=1458)\n",
      "FreqItemset(items=['Sandwiches'], freq=5864)\n",
      "FreqItemset(items=['Chicken Wings'], freq=2019)\n",
      "FreqItemset(items=['Chicken Wings', 'Pizza'], freq=789)\n",
      "FreqItemset(items=['Lounges'], freq=711)\n",
      "FreqItemset(items=['Lounges', 'Bars'], freq=711)\n",
      "FreqItemset(items=['Lounges', 'Bars', 'Nightlife'], freq=711)\n",
      "FreqItemset(items=['Lounges', 'Nightlife'], freq=711)\n",
      "FreqItemset(items=['Chinese'], freq=3775)\n",
      "FreqItemset(items=['Arts & Entertainment'], freq=986)\n",
      "FreqItemset(items=['Seafood'], freq=1981)\n",
      "FreqItemset(items=['Korean'], freq=697)\n",
      "FreqItemset(items=['Specialty Food'], freq=3620)\n",
      "FreqItemset(items=['Middle Eastern'], freq=958)\n",
      "FreqItemset(items=['Fast Food'], freq=5792)\n",
      "FreqItemset(items=['Fast Food', 'Sandwiches'], freq=1200)\n",
      "FreqItemset(items=['Barbeque'], freq=1413)\n",
      "FreqItemset(items=['Greek'], freq=956)\n",
      "FreqItemset(items=['Grocery'], freq=3044)\n",
      "FreqItemset(items=['American (Traditional)'], freq=5737)\n",
      "FreqItemset(items=['American (Traditional)', 'Bars'], freq=2101)\n",
      "FreqItemset(items=['American (Traditional)', 'Bars', 'Nightlife'], freq=2101)\n",
      "FreqItemset(items=['American (Traditional)', 'Nightlife'], freq=2132)\n",
      "FreqItemset(items=['Canadian (New)'], freq=1357)\n",
      "FreqItemset(items=['Cocktail Bars'], freq=688)\n",
      "FreqItemset(items=['Cocktail Bars', 'Bars'], freq=688)\n",
      "FreqItemset(items=['Cocktail Bars', 'Bars', 'Nightlife'], freq=688)\n",
      "FreqItemset(items=['Cocktail Bars', 'Nightlife'], freq=688)\n",
      "FreqItemset(items=['Salad'], freq=1850)\n",
      "FreqItemset(items=['Salad', 'Sandwiches'], freq=860)\n",
      "FreqItemset(items=['Pubs'], freq=1326)\n",
      "FreqItemset(items=['Pubs', 'Bars'], freq=1326)\n",
      "FreqItemset(items=['Pubs', 'Bars', 'Nightlife'], freq=1326)\n",
      "FreqItemset(items=['Pubs', 'Nightlife'], freq=1326)\n",
      "FreqItemset(items=['Pizza'], freq=5652)\n",
      "FreqItemset(items=['Pizza', 'Sandwiches'], freq=823)\n",
      "FreqItemset(items=['Food Delivery Services'], freq=684)\n",
      "FreqItemset(items=['Sushi Bars'], freq=1833)\n",
      "FreqItemset(items=['Sushi Bars', 'Japanese'], freq=1119)\n",
      "FreqItemset(items=['French'], freq=952)\n",
      "FreqItemset(items=['Bakeries'], freq=3014)\n",
      "FreqItemset(items=['Beer'], freq=1657)\n",
      "FreqItemset(items=['Vietnamese'], freq=928)\n",
      "FreqItemset(items=['Cafes'], freq=2812)\n",
      "FreqItemset(items=['Cafes', 'Coffee & Tea'], freq=1109)\n",
      "FreqItemset(items=['Convenience Stores'], freq=1322)\n",
      "FreqItemset(items=['Coffee & Tea'], freq=5565)\n",
      "FreqItemset(items=['Desserts'], freq=2419)\n",
      "FreqItemset(items=['Desserts', 'Bakeries'], freq=671)\n",
      "FreqItemset(items=['Vegetarian'], freq=889)\n",
      "FreqItemset(items=['Italian'], freq=4411)\n",
      "FreqItemset(items=['Italian', 'Pizza'], freq=1975)\n",
      "FreqItemset(items=['Steakhouses'], freq=1311)\n",
      "FreqItemset(items=['Wine & Spirits'], freq=1657)\n",
      "FreqItemset(items=['Wine & Spirits', 'Beer'], freq=1657)\n",
      "FreqItemset(items=['Burgers'], freq=4236)\n",
      "FreqItemset(items=['Burgers', 'American (Traditional)'], freq=968)\n",
      "FreqItemset(items=['Burgers', 'Bars'], freq=736)\n",
      "FreqItemset(items=['Burgers', 'Bars', 'Nightlife'], freq=736)\n",
      "FreqItemset(items=['Burgers', 'Fast Food'], freq=1763)\n",
      "FreqItemset(items=['Burgers', 'Nightlife'], freq=745)\n",
      "FreqItemset(items=['Thai'], freq=1291)\n",
      "FreqItemset(items=['Delis'], freq=1564)\n",
      "FreqItemset(items=['Delis', 'Sandwiches'], freq=907)\n",
      "FreqItemset(items=['Event Planning & Services'], freq=2261)\n",
      "FreqItemset(items=['Wine Bars'], freq=877)\n",
      "FreqItemset(items=['Wine Bars', 'Bars'], freq=877)\n",
      "FreqItemset(items=['Wine Bars', 'Bars', 'Nightlife'], freq=877)\n",
      "FreqItemset(items=['Wine Bars', 'Nightlife'], freq=877)\n",
      "FreqItemset(items=['Asian Fusion'], freq=1554)\n",
      "FreqItemset(items=['Drugstores'], freq=818)\n",
      "FreqItemset(items=['Drugstores', 'Shopping'], freq=818)\n",
      "FreqItemset(items=['Shopping'], freq=2211)\n",
      "FreqItemset(items=['Shopping', 'Grocery'], freq=876)\n",
      "FreqItemset(items=['Breakfast & Brunch'], freq=4103)\n",
      "FreqItemset(items=['Breakfast & Brunch', 'Sandwiches'], freq=843)\n",
      "FreqItemset(items=['Breakfast & Brunch', 'American (Traditional)'], freq=1018)\n",
      "FreqItemset(items=['Breakfast & Brunch', 'Coffee & Tea'], freq=661)\n",
      "FreqItemset(items=['Indian'], freq=1289)\n"
     ]
    }
   ],
   "source": [
    "for fi in result:\n",
    "    print(fi)"
   ]
  },
  {
   "cell_type": "code",
   "execution_count": null,
   "metadata": {
    "collapsed": true
   },
   "outputs": [],
   "source": [
    "#  drop the single items set !!!!"
   ]
  }
 ],
 "metadata": {
  "kernelspec": {
   "display_name": "Python 3",
   "language": "python",
   "name": "python3"
  },
  "language_info": {
   "codemirror_mode": {
    "name": "ipython",
    "version": 3
   },
   "file_extension": ".py",
   "mimetype": "text/x-python",
   "name": "python",
   "nbconvert_exporter": "python",
   "pygments_lexer": "ipython3",
   "version": "3.6.1"
  }
 },
 "nbformat": 4,
 "nbformat_minor": 2
}
